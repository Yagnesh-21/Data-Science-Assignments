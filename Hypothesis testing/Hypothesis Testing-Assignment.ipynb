{
 "cells": [
  {
   "cell_type": "markdown",
   "id": "ba64f2c6",
   "metadata": {},
   "source": [
    "##    HYPOTHESIS TESTING"
   ]
  },
  {
   "cell_type": "markdown",
   "id": "253141f4",
   "metadata": {},
   "source": [
    "Null Hypothesis (H₀):\n",
    "The observed mean weekly operating cost is equal to the cost predicted by the theoretical model.\n",
    "\n",
    "Mathematically:H0:  Mean Weekly Operating Cost=1000+5X\n",
    "   \n",
    "Alternative Hypothesis (H₁):\n",
    "The observed mean weekly operating cost is higher than the cost predicted by the theoretical model.\n",
    "\n",
    "Mathematically:H1:  Mean Weekly Operating Cost>1000+5X"
   ]
  },
  {
   "cell_type": "code",
   "execution_count": 6,
   "id": "e587f38e",
   "metadata": {},
   "outputs": [],
   "source": [
    "import numpy as np\n",
    "from scipy import stats\n",
    "import pandas as pd"
   ]
  },
  {
   "cell_type": "code",
   "execution_count": 2,
   "id": "fd0fd52d",
   "metadata": {},
   "outputs": [],
   "source": [
    "# z=(x-u)/sigma/sqrt(n)\n",
    "\n",
    "#x=3050,u=1000+5*x(x=600),sigma=5*25,n=25\n",
    "\n",
    "z=(3050-4000)/(125/np.sqrt(25))"
   ]
  },
  {
   "cell_type": "code",
   "execution_count": 3,
   "id": "a5605b39",
   "metadata": {},
   "outputs": [
    {
     "data": {
      "text/plain": [
       "-38.0"
      ]
     },
     "execution_count": 3,
     "metadata": {},
     "output_type": "execute_result"
    }
   ],
   "source": [
    "z"
   ]
  },
  {
   "cell_type": "markdown",
   "id": "bb6de380",
   "metadata": {},
   "source": [
    "Critical Value=0.05"
   ]
  },
  {
   "cell_type": "code",
   "execution_count": 4,
   "id": "64c771ae",
   "metadata": {},
   "outputs": [
    {
     "data": {
      "text/plain": [
       "1.959963984540054"
      ]
     },
     "execution_count": 4,
     "metadata": {},
     "output_type": "execute_result"
    }
   ],
   "source": [
    "stats.norm.ppf(0.975)"
   ]
  },
  {
   "cell_type": "markdown",
   "id": "1e383826",
   "metadata": {},
   "source": [
    "####  Decision"
   ]
  },
  {
   "cell_type": "markdown",
   "id": "67c4ce12",
   "metadata": {},
   "source": [
    "We reject the null hypothesis and accept alternative hypothesis."
   ]
  },
  {
   "cell_type": "markdown",
   "id": "842f7d0c",
   "metadata": {},
   "source": [
    "####   Conclusion"
   ]
  },
  {
   "cell_type": "markdown",
   "id": "411e1fc8",
   "metadata": {},
   "source": [
    "This indicates that there is significant evidence to suggest that the mean weekly cost is higher than what the cost model predicts. The observed costs are significantly higher than what was expected according to the model, supporting the claim that the cost model may no longer be accurate."
   ]
  },
  {
   "cell_type": "markdown",
   "id": "e0d1937f",
   "metadata": {},
   "source": [
    "## CHI-SQUARE TEST"
   ]
  },
  {
   "cell_type": "markdown",
   "id": "5154f8cd",
   "metadata": {},
   "source": [
    "Null Hypothesis (H0): There is no significant association between the type of smart home device purchased (Smart Thermostats vs. Smart Lights) and the customer satisfaction level.\n",
    "\n",
    "Alternative Hypothesis (H1): There is a significant association between the type of smart home device purchased (Smart Thermostats vs. Smart Lights) and the customer satisfaction level."
   ]
  },
  {
   "cell_type": "code",
   "execution_count": 17,
   "id": "c5c0c41b",
   "metadata": {},
   "outputs": [
    {
     "data": {
      "text/html": [
       "<div>\n",
       "<style scoped>\n",
       "    .dataframe tbody tr th:only-of-type {\n",
       "        vertical-align: middle;\n",
       "    }\n",
       "\n",
       "    .dataframe tbody tr th {\n",
       "        vertical-align: top;\n",
       "    }\n",
       "\n",
       "    .dataframe thead th {\n",
       "        text-align: right;\n",
       "    }\n",
       "</style>\n",
       "<table border=\"1\" class=\"dataframe\">\n",
       "  <thead>\n",
       "    <tr style=\"text-align: right;\">\n",
       "      <th></th>\n",
       "      <th>Satisfaction</th>\n",
       "      <th>Smart Thermostat</th>\n",
       "      <th>Smart Light</th>\n",
       "    </tr>\n",
       "  </thead>\n",
       "  <tbody>\n",
       "    <tr>\n",
       "      <th>0</th>\n",
       "      <td>Very Satisfied</td>\n",
       "      <td>50</td>\n",
       "      <td>70</td>\n",
       "    </tr>\n",
       "    <tr>\n",
       "      <th>1</th>\n",
       "      <td>Satisfied</td>\n",
       "      <td>80</td>\n",
       "      <td>100</td>\n",
       "    </tr>\n",
       "    <tr>\n",
       "      <th>2</th>\n",
       "      <td>Neutral</td>\n",
       "      <td>60</td>\n",
       "      <td>90</td>\n",
       "    </tr>\n",
       "    <tr>\n",
       "      <th>3</th>\n",
       "      <td>Unsatisfied</td>\n",
       "      <td>30</td>\n",
       "      <td>50</td>\n",
       "    </tr>\n",
       "    <tr>\n",
       "      <th>4</th>\n",
       "      <td>Very Unsatisfied</td>\n",
       "      <td>20</td>\n",
       "      <td>50</td>\n",
       "    </tr>\n",
       "  </tbody>\n",
       "</table>\n",
       "</div>"
      ],
      "text/plain": [
       "       Satisfaction  Smart Thermostat  Smart Light\n",
       "0    Very Satisfied                50           70\n",
       "1         Satisfied                80          100\n",
       "2           Neutral                60           90\n",
       "3       Unsatisfied                30           50\n",
       "4  Very Unsatisfied                20           50"
      ]
     },
     "execution_count": 17,
     "metadata": {},
     "output_type": "execute_result"
    }
   ],
   "source": [
    "data={\n",
    "    \"Satisfaction\": [\"Very Satisfied\", \"Satisfied\", \"Neutral\", \"Unsatisfied\", \"Very Unsatisfied\"],\n",
    "    \"Smart Thermostat\": [50, 80, 60, 30, 20],\n",
    "    \"Smart Light\": [70, 100, 90, 50, 50],\n",
    "}\n",
    "table=pd.DataFrame(data)\n",
    "table"
   ]
  },
  {
   "cell_type": "code",
   "execution_count": 19,
   "id": "c6ba8320",
   "metadata": {},
   "outputs": [],
   "source": [
    "table=table.drop('Satisfaction',axis=1)"
   ]
  },
  {
   "cell_type": "code",
   "execution_count": 20,
   "id": "37402e8f",
   "metadata": {},
   "outputs": [
    {
     "data": {
      "text/html": [
       "<div>\n",
       "<style scoped>\n",
       "    .dataframe tbody tr th:only-of-type {\n",
       "        vertical-align: middle;\n",
       "    }\n",
       "\n",
       "    .dataframe tbody tr th {\n",
       "        vertical-align: top;\n",
       "    }\n",
       "\n",
       "    .dataframe thead th {\n",
       "        text-align: right;\n",
       "    }\n",
       "</style>\n",
       "<table border=\"1\" class=\"dataframe\">\n",
       "  <thead>\n",
       "    <tr style=\"text-align: right;\">\n",
       "      <th></th>\n",
       "      <th>Smart Thermostat</th>\n",
       "      <th>Smart Light</th>\n",
       "    </tr>\n",
       "  </thead>\n",
       "  <tbody>\n",
       "    <tr>\n",
       "      <th>0</th>\n",
       "      <td>50</td>\n",
       "      <td>70</td>\n",
       "    </tr>\n",
       "    <tr>\n",
       "      <th>1</th>\n",
       "      <td>80</td>\n",
       "      <td>100</td>\n",
       "    </tr>\n",
       "    <tr>\n",
       "      <th>2</th>\n",
       "      <td>60</td>\n",
       "      <td>90</td>\n",
       "    </tr>\n",
       "    <tr>\n",
       "      <th>3</th>\n",
       "      <td>30</td>\n",
       "      <td>50</td>\n",
       "    </tr>\n",
       "    <tr>\n",
       "      <th>4</th>\n",
       "      <td>20</td>\n",
       "      <td>50</td>\n",
       "    </tr>\n",
       "  </tbody>\n",
       "</table>\n",
       "</div>"
      ],
      "text/plain": [
       "   Smart Thermostat  Smart Light\n",
       "0                50           70\n",
       "1                80          100\n",
       "2                60           90\n",
       "3                30           50\n",
       "4                20           50"
      ]
     },
     "execution_count": 20,
     "metadata": {},
     "output_type": "execute_result"
    }
   ],
   "source": [
    "table"
   ]
  },
  {
   "cell_type": "markdown",
   "id": "c8cbc411",
   "metadata": {},
   "source": [
    "Critical Value=0.05"
   ]
  },
  {
   "cell_type": "code",
   "execution_count": 16,
   "id": "ea8815ea",
   "metadata": {},
   "outputs": [
    {
     "name": "stdout",
     "output_type": "stream",
     "text": [
      "0.22784371130697179\n"
     ]
    }
   ],
   "source": [
    "from scipy.stats import chi2_contingency\n",
    "chi, p, dof, expected = chi2_contingency(table)\n",
    "print(p)"
   ]
  },
  {
   "cell_type": "markdown",
   "id": "818b7f36",
   "metadata": {},
   "source": [
    "###### Decision"
   ]
  },
  {
   "cell_type": "markdown",
   "id": "57daa452",
   "metadata": {},
   "source": [
    "We accept the null hypothesis and reject alternative hypothesis."
   ]
  },
  {
   "cell_type": "markdown",
   "id": "3ea0725a",
   "metadata": {},
   "source": [
    "##### Conclusion"
   ]
  },
  {
   "cell_type": "markdown",
   "id": "ed2d45ab",
   "metadata": {},
   "source": [
    "This means there is no significant association between the type of smart home device purchased (Smart Thermostats vs. Smart Lights) and the customer satisfaction level."
   ]
  },
  {
   "cell_type": "code",
   "execution_count": null,
   "id": "537b31ea",
   "metadata": {},
   "outputs": [],
   "source": []
  }
 ],
 "metadata": {
  "kernelspec": {
   "display_name": "Python 3 (ipykernel)",
   "language": "python",
   "name": "python3"
  },
  "language_info": {
   "codemirror_mode": {
    "name": "ipython",
    "version": 3
   },
   "file_extension": ".py",
   "mimetype": "text/x-python",
   "name": "python",
   "nbconvert_exporter": "python",
   "pygments_lexer": "ipython3",
   "version": "3.12.4"
  }
 },
 "nbformat": 4,
 "nbformat_minor": 5
}

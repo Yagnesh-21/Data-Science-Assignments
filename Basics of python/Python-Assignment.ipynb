{
 "cells": [
  {
   "cell_type": "markdown",
   "id": "b11e4aba",
   "metadata": {},
   "source": [
    "##     Prime Numbers"
   ]
  },
  {
   "cell_type": "code",
   "execution_count": 10,
   "id": "3d71c7ab",
   "metadata": {},
   "outputs": [
    {
     "name": "stdout",
     "output_type": "stream",
     "text": [
      "Enter a number :19\n",
      "It is a prime number\n"
     ]
    }
   ],
   "source": [
    "n=int(input(\"Enter a number :\"))\n",
    "count=0;\n",
    "for i in range(2,n):\n",
    "    if(n%i == 0):\n",
    "        count=count+1\n",
    "if(count==0):\n",
    "    print(\"It is a prime number\")\n",
    "else:\n",
    "    print(\"It is not a prime number\")"
   ]
  },
  {
   "cell_type": "markdown",
   "id": "d43a0c86",
   "metadata": {},
   "source": [
    "## Product of Random Numbers"
   ]
  },
  {
   "cell_type": "code",
   "execution_count": 18,
   "id": "fcd67a88",
   "metadata": {},
   "outputs": [
    {
     "name": "stdout",
     "output_type": "stream",
     "text": [
      "100\n",
      "62\n",
      "Enter the Product:6700\n",
      "The product is not correct\n"
     ]
    }
   ],
   "source": [
    "import pandas as pd\n",
    "import random \n",
    "a=random.randint(1,100)\n",
    "b=random.randint(1,100)\n",
    "print(a)\n",
    "print(b)\n",
    "c=a*b\n",
    "product=int(input(\"Enter the Product:\"))\n",
    "if(c==product):\n",
    "    print(\"The product is correct\")\n",
    "else:\n",
    "    print(\"The product is not correct\")"
   ]
  },
  {
   "cell_type": "markdown",
   "id": "5a7df17e",
   "metadata": {},
   "source": [
    "##  Squares of Even/Odd Numbers"
   ]
  },
  {
   "cell_type": "code",
   "execution_count": 1,
   "id": "e28c8efa",
   "metadata": {},
   "outputs": [
    {
     "name": "stdout",
     "output_type": "stream",
     "text": [
      "Please enter even or odd:even\n",
      "10000 10404 10816 11236 11664 12100 12544 12996 13456 13924 14400 14884 15376 15876 16384 16900 17424 17956 18496 19044 19600 20164 20736 21316 21904 22500 23104 23716 24336 24964 25600 26244 26896 27556 28224 28900 29584 30276 30976 31684 32400 33124 33856 34596 35344 36100 36864 37636 38416 39204 40000 "
     ]
    }
   ],
   "source": [
    "choice=input(\"Please enter even or odd:\")\n",
    "if(choice=='even'):\n",
    "    for i in range(100,201):\n",
    "        if(i%2 == 0):\n",
    "            print(i*i,end=\" \")\n",
    "else:\n",
    "    for i in range(100,201):\n",
    "        if(i%2 != 0):\n",
    "            print(i*i,end=\" \")"
   ]
  },
  {
   "cell_type": "markdown",
   "id": "3a66660b",
   "metadata": {},
   "source": [
    "##   Word counter"
   ]
  },
  {
   "cell_type": "code",
   "execution_count": 28,
   "id": "68bb9fbd",
   "metadata": {},
   "outputs": [
    {
     "name": "stdout",
     "output_type": "stream",
     "text": [
      "Enter a string:this a code a\n",
      "{'this': 1, 'a': 2, 'code': 1}\n"
     ]
    }
   ],
   "source": [
    "def word_count(sen):\n",
    "    count=dict()\n",
    "    words=sen.split()\n",
    "    for i in words:\n",
    "        if i in count:\n",
    "            count[i]+=1\n",
    "        else:\n",
    "            count[i]=1\n",
    "    return count\n",
    "\n",
    "sen=input(\"Enter a string:\")   \n",
    "print(word_count(sen))"
   ]
  },
  {
   "cell_type": "markdown",
   "id": "24bb1c96",
   "metadata": {},
   "source": [
    "##    Check for Palindrome"
   ]
  },
  {
   "cell_type": "code",
   "execution_count": 27,
   "id": "72595b9c",
   "metadata": {},
   "outputs": [
    {
     "name": "stdout",
     "output_type": "stream",
     "text": [
      "Enter a string:fgdgfg\n",
      "False\n"
     ]
    }
   ],
   "source": [
    "def my_palindrome(str):\n",
    "    if(str==str[::-1]):\n",
    "        return 'True'\n",
    "    else:\n",
    "        return 'False'\n",
    "    \n",
    "str=input(\"Enter a string:\") \n",
    "print(my_palindrome(str))"
   ]
  },
  {
   "cell_type": "code",
   "execution_count": null,
   "id": "0222dcf6",
   "metadata": {},
   "outputs": [],
   "source": []
  }
 ],
 "metadata": {
  "kernelspec": {
   "display_name": "Python 3 (ipykernel)",
   "language": "python",
   "name": "python3"
  },
  "language_info": {
   "codemirror_mode": {
    "name": "ipython",
    "version": 3
   },
   "file_extension": ".py",
   "mimetype": "text/x-python",
   "name": "python",
   "nbconvert_exporter": "python",
   "pygments_lexer": "ipython3",
   "version": "3.9.12"
  }
 },
 "nbformat": 4,
 "nbformat_minor": 5
}
